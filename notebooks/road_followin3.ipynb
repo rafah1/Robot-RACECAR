{
 "cells": [
  {
   "cell_type": "markdown",
   "metadata": {},
   "source": [
    "First, create the model. This must match the model used in the interactive training notebook."
   ]
  },
  {
   "cell_type": "code",
   "execution_count": 1,
   "metadata": {},
   "outputs": [],
   "source": [
    "! export LD_PRELOAD=/usr/lib/aarch64-linux-gnu/libgomp.so.1\n",
    "# sudo systemctl restart nvargus-daemon\n",
    "import cv2"
   ]
  },
  {
   "cell_type": "code",
   "execution_count": 2,
   "metadata": {},
   "outputs": [],
   "source": [
    "import torch\n",
    "import torchvision\n",
    "\n",
    "CATEGORIES = ['apex']\n",
    "\n",
    "device = torch.device('cuda')\n",
    "model = torchvision.models.resnet18(pretrained=False)\n",
    "model.fc = torch.nn.Linear(512, 2 * len(CATEGORIES))\n",
    "model = model.cuda().eval().half()"
   ]
  },
  {
   "cell_type": "markdown",
   "metadata": {},
   "source": [
    "Next, load the saved model.  Enter the model path you used to save."
   ]
  },
  {
   "cell_type": "code",
   "execution_count": null,
   "metadata": {},
   "outputs": [],
   "source": [
    "model.load_state_dict(torch.load('road_following_model_RESNET18_200.pth'))"
   ]
  },
  {
   "cell_type": "markdown",
   "metadata": {},
   "source": [
    "Convert and optimize the model using ``torch2trt`` for faster inference with TensorRT.  Please see the [torch2trt](https://github.com/NVIDIA-AI-IOT/torch2trt) readme for more details.\n",
    "\n",
    "> This optimization process can take a couple minutes to complete. "
   ]
  },
  {
   "cell_type": "code",
   "execution_count": null,
   "metadata": {},
   "outputs": [],
   "source": [
    "from torch2trt import torch2trt\n",
    "\n",
    "data = torch.zeros((1, 3, 224, 224)).cuda().half()\n",
    "\n",
    "model_trt = torch2trt(model, [data], fp16_mode=True)"
   ]
  },
  {
   "cell_type": "markdown",
   "metadata": {},
   "source": [
    "Save the optimized model using the cell below"
   ]
  },
  {
   "cell_type": "code",
   "execution_count": null,
   "metadata": {},
   "outputs": [],
   "source": [
    "torch.save(model_trt.state_dict(), 'road_following_model_trt.pth')"
   ]
  },
  {
   "cell_type": "markdown",
   "metadata": {},
   "source": [
    "Load the optimized model by executing the cell below"
   ]
  },
  {
   "cell_type": "code",
   "execution_count": 3,
   "metadata": {},
   "outputs": [
    {
     "data": {
      "text/plain": [
       "<All keys matched successfully>"
      ]
     },
     "execution_count": 3,
     "metadata": {},
     "output_type": "execute_result"
    }
   ],
   "source": [
    "import torch\n",
    "from torch2trt import TRTModule\n",
    "\n",
    "model_trt = TRTModule()\n",
    "model_trt.load_state_dict(torch.load('road_following_model_trt.pth'))"
   ]
  },
  {
   "cell_type": "markdown",
   "metadata": {},
   "source": [
    "Create the racecar class"
   ]
  },
  {
   "cell_type": "code",
   "execution_count": 4,
   "metadata": {},
   "outputs": [],
   "source": [
    "from jetracer.nvidia_racecar import NvidiaRacecar\n",
    "\n",
    "car = NvidiaRacecar()"
   ]
  },
  {
   "cell_type": "markdown",
   "metadata": {},
   "source": [
    "Create the camera class."
   ]
  },
  {
   "cell_type": "code",
   "execution_count": 5,
   "metadata": {},
   "outputs": [],
   "source": [
    "from jetcam.csi_camera import CSICamera\n",
    "\n",
    "camera = CSICamera(width=224, height=224)"
   ]
  },
  {
   "cell_type": "markdown",
   "metadata": {},
   "source": [
    "Finally, execute the cell below to make the racecar move forward, steering the racecar based on the x value of the apex.\n",
    "\n",
    "Here are some tips,\n",
    "\n",
    "* If the car wobbles left and right,  lower the steering gain\n",
    "* If the car misses turns,  raise the steering gain\n",
    "* If the car tends right, make the steering bias more negative (in small increments like -0.05)\n",
    "* If the car tends left, make the steering bias more postive (in small increments +0.05)"
   ]
  },
  {
   "cell_type": "code",
   "execution_count": null,
   "metadata": {},
   "outputs": [],
   "source": [
    "STEERING_GAIN = 0.75\n",
    "STEERING_BIAS = -0.12\n",
    "\n",
    "car.steering = 1 * STEERING_GAIN + STEERING_BIAS\n",
    "car.throttle = 0.12"
   ]
  },
  {
   "cell_type": "code",
   "execution_count": null,
   "metadata": {},
   "outputs": [],
   "source": [
    "import traitlets\n",
    "from IPython.display import display\n",
    "import ipywidgets\n",
    "\n",
    "\n",
    "#camera = Camera.instance(width=224, height=224)\n",
    "#image = widgets.Image(format='jpeg', width=224, height=224)\n",
    "gain_slider = ipywidgets.FloatSlider(description='gain', min=0.45, max=2,step = 0.05, value = .118, orientation='horizontal')\n",
    "speed_slider = ipywidgets.FloatSlider(description='speed', min=0.11, max=.16, step=0.01, value = .75, orientation='vertical')\n",
    "gain_text = ipywidgets.FloatText(description='Gain')\n",
    "gain_text.value =3.5\n",
    "#camera_link = traitlets.dlink((camera, 'value'), (image, 'value'), transform=bgr8_to_jpeg)\n",
    "\n",
    "\n",
    "def on_value_change(change):\n",
    "    CAR_TRHOTTLE = change.new\n",
    "    print(CAR_TRHOTTLE)\n",
    "\n",
    "speed_slider.observe(on_value_change, names='value')\n",
    "\n",
    "display(ipywidgets.VBox([ipywidgets.HBox([gain_slider,gain_text]), speed_slider]))"
   ]
  },
  {
   "cell_type": "code",
   "execution_count": null,
   "metadata": {},
   "outputs": [
    {
     "name": "stdout",
     "output_type": "stream",
     "text": [
      "-0.0084075927734375\n",
      "-0.0061187744140625\n",
      "-0.002532958984375\n",
      "-0.0062713623046875\n",
      "-0.0092926025390625\n",
      "-0.0084686279296875\n",
      "-0.0066986083984375\n",
      "-0.0089569091796875\n",
      "-0.0069122314453125\n",
      "-0.0044708251953125\n",
      "-0.0032958984375\n",
      "-0.0048675537109375\n",
      "-0.0099945068359375\n",
      "-0.0074310302734375\n",
      "-0.0070953369140625\n",
      "-0.0079193115234375\n",
      "-0.0075531005859375\n",
      "-0.0084381103515625\n",
      "-0.0075531005859375\n",
      "-0.0086822509765625\n",
      "-0.0045928955078125\n",
      "-0.0066986083984375\n",
      "-0.0076141357421875\n",
      "-0.0092315673828125\n",
      "-0.0070343017578125\n",
      "-0.0056610107421875\n",
      "-0.0099334716796875\n",
      "-0.0097198486328125\n",
      "-0.0044097900390625\n",
      "-0.0056304931640625\n",
      "-0.0098419189453125\n",
      "-0.0065155029296875\n",
      "-0.0087432861328125\n",
      "-0.0095977783203125\n",
      "-0.0083770751953125\n",
      "-0.0058746337890625\n",
      "-0.0093536376953125\n",
      "-0.0099639892578125\n",
      "-0.0088043212890625\n",
      "-0.0081024169921875\n",
      "-0.0077667236328125\n",
      "-0.0088348388671875\n",
      "-0.0084991455078125\n",
      "-0.0093841552734375\n",
      "-0.0063934326171875\n",
      "-0.0071868896484375\n",
      "-0.0077972412109375\n",
      "-0.0076141357421875\n",
      "-0.0087738037109375\n",
      "-0.0062713623046875\n",
      "-0.0091705322265625\n",
      "-0.0054168701171875\n",
      "-0.0075225830078125\n",
      "-0.0052337646484375\n",
      "-0.0058135986328125\n",
      "-0.0059967041015625\n",
      "-0.0066070556640625\n",
      "-0.0070953369140625\n",
      "-0.0077362060546875\n",
      "-0.0074310302734375\n",
      "-0.0079803466796875\n",
      "-0.0086822509765625\n",
      "-0.0097503662109375\n",
      "-0.0095672607421875\n",
      "-0.0074615478515625\n",
      "-0.0095977783203125\n",
      "-0.0067291259765625\n",
      "-0.0074310302734375\n",
      "-0.0072784423828125\n",
      "-0.0094757080078125\n",
      "-0.0091705322265625\n",
      "-0.0094451904296875\n",
      "-0.0092010498046875\n",
      "-0.0099029541015625\n",
      "-0.0093231201171875\n",
      "-0.0086212158203125\n",
      "-0.0071258544921875\n"
     ]
    }
   ],
   "source": [
    "from utils import preprocess\n",
    "import numpy as np\n",
    "\n",
    "STEERING_GAIN = -0.75\n",
    "STEERING_BIAS = -0.12\n",
    "SPEED_GAIN = .2\n",
    "car.throttle = 0.15\n",
    "\n",
    "while True:\n",
    "    image = camera.read()\n",
    "    image = preprocess(image).half()\n",
    "    output = model_trt(image).detach().cpu().numpy().flatten()\n",
    "    x = float(output[0])\n",
    "    y = float(output[1])\n",
    "\n",
    "    car.steering = x * STEERING_GAIN + STEERING_BIAS\n",
    "    #car.steering = x * -1*(gain_slider.value)+ STEERING_BIAS\n",
    "\n",
    "      \n",
    "    \n",
    "    #print (output[0],output[1],x,y,car.steering)\n",
    "    if abs(y)<.01:\n",
    "        print(y)\n",
    "        car.throttle =  0.0\n",
    "\n",
    "    #else:\n",
    "    #print('GO')\n"
   ]
  },
  {
   "cell_type": "code",
   "execution_count": null,
   "metadata": {},
   "outputs": [],
   "source": [
    "camera.running = False\n",
    "camera.cap.release() \n",
    "del camera "
   ]
  },
  {
   "cell_type": "code",
   "execution_count": null,
   "metadata": {},
   "outputs": [],
   "source": []
  },
  {
   "cell_type": "code",
   "execution_count": null,
   "metadata": {},
   "outputs": [],
   "source": []
  }
 ],
 "metadata": {
  "kernelspec": {
   "display_name": "Python 3",
   "language": "python",
   "name": "python3"
  },
  "language_info": {
   "codemirror_mode": {
    "name": "ipython",
    "version": 3
   },
   "file_extension": ".py",
   "mimetype": "text/x-python",
   "name": "python",
   "nbconvert_exporter": "python",
   "pygments_lexer": "ipython3",
   "version": "3.6.9"
  }
 },
 "nbformat": 4,
 "nbformat_minor": 4
}
